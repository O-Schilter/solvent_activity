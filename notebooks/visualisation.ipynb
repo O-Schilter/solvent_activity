{
 "cells": [
  {
   "cell_type": "code",
   "execution_count": null,
   "id": "6a945c86-7e77-46df-968e-02459c268502",
   "metadata": {},
   "outputs": [],
   "source": [
    "!conda install -c tmap tmap"
   ]
  },
  {
   "cell_type": "code",
   "execution_count": null,
   "id": "05ca3057-5d2f-427c-8f38-c6b00f51139b",
   "metadata": {},
   "outputs": [],
   "source": [
    "import pandas as pd\n",
    "import tmap\n",
    "from faerun import Faerun\n",
    "from mhfp.encoder import MHFPEncoder\n",
    "from rdkit.Chem import AllChem\n",
    "import numpy as np\n",
    "from rdkit import Chem\n",
    "from tqdm import tqdm\n",
    "from drfp import DrfpEncoder\n",
    "import matplotlib.pyplot as plt"
   ]
  },
  {
   "cell_type": "markdown",
   "id": "780529f5-ff16-4fff-be0c-818c816ab10b",
   "metadata": {},
   "source": [
    "**Import dataset from Medina et al.**"
   ]
  },
  {
   "cell_type": "code",
   "execution_count": null,
   "id": "01c1ecc8-2496-400f-9280-110028e4e876",
   "metadata": {
    "scrolled": true
   },
   "outputs": [],
   "source": [
    "mixture_df = pd.read_csv('./data/database_IAC_ln_clean.csv', index_col=0)\n",
    "mixture_df"
   ]
  },
  {
   "cell_type": "markdown",
   "id": "9c7cceb4-72fb-40e3-9b66-fd2e844c96e0",
   "metadata": {},
   "source": [
    "**Obtain concatenated solvent and solute representations**"
   ]
  },
  {
   "cell_type": "code",
   "execution_count": null,
   "id": "fd0ed526-3a09-4fcd-8db7-1a689e560b4c",
   "metadata": {},
   "outputs": [],
   "source": [
    "rxn_smi = []\n",
    "mixture_smi = []\n",
    "for i in range(mixture_df.shape[0]):    \n",
    "    rxn_smi.append(mixture_df['Solvent_SMILES'].iloc[i]+'>>'+mixture_df['Solute_SMILES'].iloc[i])\n",
    "    mixture_smi.append(mixture_df['Solvent_SMILES'].iloc[i]+'.'+mixture_df['Solute_SMILES'].iloc[i])\n",
    "    \n",
    "mixture_df['rxn_smi'] = rxn_smi\n",
    "mixture_df['mixture_smi'] = mixture_smi"
   ]
  },
  {
   "cell_type": "markdown",
   "id": "2ee5e496-dffc-4d21-bde7-34c830c664d5",
   "metadata": {},
   "source": [
    "**Encode solvent/solute mixtures as fingerprints**"
   ]
  },
  {
   "cell_type": "code",
   "execution_count": null,
   "id": "e4d0f005-c6eb-43cc-8532-da1a50338a85",
   "metadata": {},
   "outputs": [],
   "source": [
    "bits = 1024 # sometimes crashes with higher bit size\n",
    "rxn_fps = DrfpEncoder.encode(mixture_df['rxn_smi'].tolist(),n_folded_length=bits)\n",
    "rxn_fps = np.array(rxn_fps)\n",
    "rxn_fps.shape"
   ]
  },
  {
   "cell_type": "markdown",
   "id": "183f8a9e-efc9-4a31-816d-65e31be8fd6f",
   "metadata": {},
   "source": [
    "**Hashing to prepare fingerprint array for tmap plotting**"
   ]
  },
  {
   "cell_type": "code",
   "execution_count": null,
   "id": "20fc7347-c808-4a1c-a4ba-31738d72401b",
   "metadata": {},
   "outputs": [],
   "source": [
    "mh_encoder = tmap.Minhash(bits)\n",
    "lf = tmap.LSHForest(bits)\n",
    "\n",
    "mhfps = [mh_encoder.from_weight_array(fp.tolist(), method=\"I2CWS\") for fp in tqdm(rxn_fps)]"
   ]
  },
  {
   "cell_type": "code",
   "execution_count": null,
   "id": "6e80d711-6e6e-47ee-9148-f0ed9e9dc99a",
   "metadata": {},
   "outputs": [],
   "source": [
    "lf.batch_add(mhfps)\n",
    "lf.index()"
   ]
  },
  {
   "cell_type": "markdown",
   "id": "f6ac6201-c2ba-4e91-87a4-c3431d49f623",
   "metadata": {},
   "source": [
    "**Plot tmap**"
   ]
  },
  {
   "cell_type": "code",
   "execution_count": null,
   "id": "46ff9f08-6295-4e14-9119-72bb3d8cd19a",
   "metadata": {},
   "outputs": [],
   "source": [
    "# each plot of the tmap will be slightly different due to hashing\n",
    "x, y, s, t, _ = tmap.layout_from_lsh_forest(lf)\n",
    "\n",
    "# Now plot the data\n",
    "faerun = Faerun(view=\"front\", coords=False) #clear_color=\"#FFFFFF\")\n",
    "faerun.add_scatter(\n",
    "    \"liquid_mixture\",\n",
    "    {   \"x\": x, \n",
    "        \"y\": y, \n",
    "        \"c\": list(mixture_df.Literature.values),\n",
    "        \"labels\": mixture_df['mixture_smi']}, \n",
    "    point_scale=5,\n",
    "    colormap = ['plasma'],\n",
    "    has_legend=True,\n",
    "    legend_title = ['Activity coefficients'],\n",
    "    categorical=[False],\n",
    "    shader = 'smoothCircle'\n",
    ")\n",
    "\n",
    "faerun.add_tree(\"liquid_mixture_tree\", {\"from\": s, \"to\": t}, point_helper=\"liquid_mixture\")\n",
    "\n",
    "# Choose the \"smiles\" template to display structure on hover\n",
    "faerun.plot('liquid_mixture', template=\"smiles\", notebook_height=750)"
   ]
  },
  {
   "cell_type": "markdown",
   "id": "113df060-2644-4cfd-b132-d589f7821c1d",
   "metadata": {},
   "source": [
    "**Plotting histogram of activity coefficients**"
   ]
  },
  {
   "cell_type": "code",
   "execution_count": null,
   "id": "fbd3e88d-7d65-4a41-92c3-bf4fa70901be",
   "metadata": {},
   "outputs": [],
   "source": [
    "def friedman_diaconis_bins(data):\n",
    "    \"\"\"Compute the number of bins using the Friedman-Diaconis rule.\"\"\"\n",
    "    q75, q25 = np.percentile(data, [75 ,25])\n",
    "    iqr = q75 - q25\n",
    "    bin_width = 2 * iqr * len(data) ** (-1/3)\n",
    "    return int((data.max() - data.min()) / bin_width)\n",
    "\n",
    "\n",
    "data = np.array(mixture_df.Literature.values)\n",
    "num_bins = friedman_diaconis_bins(data)\n",
    "\n",
    "fig, ax = plt.subplots()\n",
    "plt.hist(data, bins=num_bins, color=plt.cm.plasma(0.5))  \n",
    "plt.title('Histogram of solvent/solute activity coefficients')\n",
    "plt.xlabel('Activity coefficients')\n",
    "plt.ylabel('Frequency')\n",
    "plt.show()\n",
    "fig.savefig('histogram.pdf')"
   ]
  },
  {
   "cell_type": "code",
   "execution_count": null,
   "id": "b94f68e5-6635-47a5-bb1b-50e9d5f8e1e2",
   "metadata": {},
   "outputs": [],
   "source": []
  }
 ],
 "metadata": {
  "kernelspec": {
   "display_name": "Python 3",
   "language": "python",
   "name": "python3"
  },
  "language_info": {
   "codemirror_mode": {
    "name": "ipython",
    "version": 3
   },
   "file_extension": ".py",
   "mimetype": "text/x-python",
   "name": "python",
   "nbconvert_exporter": "python",
   "pygments_lexer": "ipython3",
   "version": "3.8.10 (default, Nov 14 2022, 12:59:47) \n[GCC 9.4.0]"
  },
  "vscode": {
   "interpreter": {
    "hash": "31f2aee4e71d21fbe5cf8b01ff0e069b9275f58929596ceb00d14d90e3e16cd6"
   }
  }
 },
 "nbformat": 4,
 "nbformat_minor": 5
}
